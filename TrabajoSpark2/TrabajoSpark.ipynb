{
 "cells": [
  {
   "cell_type": "code",
   "execution_count": 1,
   "metadata": {},
   "outputs": [],
   "source": [
    "# Agrege acá el código para importar las librerias\n",
    "\n",
    "# La libreria para \"encontrar el sevicio\" de Spark\n",
    "import findspark\n",
    "findspark.init()\n",
    "\n",
    "# Librerias para \"gestionar el servicio\" de Spark\n",
    "from pyspark import SparkConf, SparkContext\n",
    "from pyspark.sql import SQLContext, SparkSession\n",
    "\n",
    "# Creamos una aplicación Spark en el Servicio\n",
    "# Tenga cuidado con las tildes o caracteres especiales en el nombre de la app\n",
    "AppSpark = SparkConf().setAppName(\"Evaluacion iSofware\")\n",
    "\n",
    "# definimos un espacio o contexto para la App\n",
    "ContextoSpark=SparkContext(conf=AppSpark)\n",
    "\n",
    "# inicio una sesión en el espacio de la App\n",
    "SesionSpark = SparkSession(ContextoSpark)\n",
    "\n",
    "# inicio del espacio o contexto SQL\n",
    "ContextoSql = SQLContext(sparkContext=ContextoSpark, sparkSession=SesionSpark)\n"
   ]
  },
  {
   "cell_type": "code",
   "execution_count": 2,
   "metadata": {},
   "outputs": [],
   "source": [
    "# 1. Cargue los datos en la carpeta datalake y luego del /datalake al HDFS (Hadoop File System)\n",
    "# Recuerda usar ! para ejecutar el comando en el shell. \n",
    "# Tu código a continuación..."
   ]
  },
  {
   "cell_type": "code",
   "execution_count": 3,
   "metadata": {},
   "outputs": [
    {
     "name": "stdout",
     "output_type": "stream",
     "text": [
      "Found 9 items\n",
      "drwxrwxrwx   - root root        512 2021-05-13 00:10 .ipynb_checkpoints\n",
      "-rwxrwxrwx   1 root root      93121 2021-05-08 13:35 Asistencia.csv\n",
      "-rwxrwxrwx   1 root root      88427 2021-05-08 13:35 Asistencia_v2.csv\n",
      "-rwxrwxrwx   1 root root     111944 2021-05-08 13:35 Evaluacion.csv\n",
      "-rwxrwxrwx   1 root root      87324 2021-05-08 13:35 Evaluacion_v2.csv\n",
      "-rwxrwxrwx   1 root root      51987 2021-05-21 21:46 TrabajoSpark.ipynb\n",
      "-rw-r--r--   1 root root         72 2021-05-08 13:46 Untitled.ipynb\n",
      "-rw-r--r--   1 root root        555 2021-05-12 23:54 Untitled1.ipynb\n",
      "drwxrwxrwx   - root root        512 2021-05-07 07:46 spark-warehouse\n"
     ]
    }
   ],
   "source": [
    "!hdfs dfs -ls"
   ]
  },
  {
   "cell_type": "code",
   "execution_count": 4,
   "metadata": {},
   "outputs": [
    {
     "name": "stdout",
     "output_type": "stream",
     "text": [
      "mkdir: `/tmp': File exists\n"
     ]
    }
   ],
   "source": [
    "#crear carpeta\n",
    "!hdfs dfs -mkdir /tmp"
   ]
  },
  {
   "cell_type": "code",
   "execution_count": 5,
   "metadata": {},
   "outputs": [],
   "source": [
    "!hdfs dfs -copyFromLocal Asistencia_v2.csv /tmp/"
   ]
  },
  {
   "cell_type": "code",
   "execution_count": 6,
   "metadata": {},
   "outputs": [],
   "source": [
    "!hdfs dfs -copyFromLocal Evaluacion_v2.csv /tmp/"
   ]
  },
  {
   "cell_type": "code",
   "execution_count": 7,
   "metadata": {},
   "outputs": [
    {
     "name": "stdout",
     "output_type": "stream",
     "text": [
      "-rw-r--r--   1 root root      88427 2021-05-21 21:47 /tmp/Asistencia_v2.csv\n",
      "-rw-r--r--   1 root root      87324 2021-05-21 21:48 /tmp/Evaluacion_v2.csv\n"
     ]
    }
   ],
   "source": [
    "!hdfs dfs -ls /tmp/*csv"
   ]
  },
  {
   "cell_type": "code",
   "execution_count": 8,
   "metadata": {},
   "outputs": [],
   "source": [
    "# 2. Cree dos tablas SparkSQL y almacene el csv en su correspondiente tabla.\n",
    "# Observación: tenga especial cuidado con los encabezados de los archivos CSV.\n",
    "# Usted puede considerar cambiar los encabezados de los CSV originales\n",
    "# Tu código a continuación..."
   ]
  },
  {
   "cell_type": "code",
   "execution_count": 9,
   "metadata": {},
   "outputs": [],
   "source": [
    "Asistencia = SesionSpark.read.load('/tmp/Asistencia_v2.csv',format=\"csv\",sep=';',inferSchema='true',header='true')\n",
    "Evaluacion = SesionSpark.read.load('/tmp/Evaluacion_v2.csv',format=\"csv\",sep=',',inferSchema='true',header='true')"
   ]
  },
  {
   "cell_type": "code",
   "execution_count": 10,
   "metadata": {},
   "outputs": [
    {
     "name": "stdout",
     "output_type": "stream",
     "text": [
      "root\n",
      " |-- fecha: string (nullable = true)\n",
      " |-- nombre: string (nullable = true)\n",
      " |-- equipo: string (nullable = true)\n",
      " |-- expositor: string (nullable = true)\n",
      "\n"
     ]
    }
   ],
   "source": [
    "#Validar el esquema\n",
    "Asistencia.printSchema()"
   ]
  },
  {
   "cell_type": "code",
   "execution_count": 11,
   "metadata": {},
   "outputs": [],
   "source": [
    "#HOMOLOGOCACION DE LAS COLUMNAS DE ASISTENCIA\n",
    "#fecha\tMarca temporal\n",
    "#nombre\tNombre de usuario\n",
    "#equipo\tEquipo al que perteneces:\n",
    "#expositor\tEquipo que va a exponer:\n"
   ]
  },
  {
   "cell_type": "code",
   "execution_count": 12,
   "metadata": {},
   "outputs": [
    {
     "name": "stdout",
     "output_type": "stream",
     "text": [
      "root\n",
      " |-- fecha: string (nullable = true)\n",
      " |-- nombre: string (nullable = true)\n",
      " |-- expositor: string (nullable = true)\n",
      " |-- p1: integer (nullable = true)\n",
      " |-- p2: integer (nullable = true)\n",
      " |-- p3: integer (nullable = true)\n",
      " |-- p4: integer (nullable = true)\n",
      " |-- p5: integer (nullable = true)\n",
      " |-- p6: integer (nullable = true)\n",
      " |-- p7: integer (nullable = true)\n",
      " |-- p8: integer (nullable = true)\n",
      " |-- p9: integer (nullable = true)\n",
      " |-- p10: integer (nullable = true)\n",
      " |-- p11: integer (nullable = true)\n",
      " |-- p12: integer (nullable = true)\n",
      " |-- p13: integer (nullable = true)\n",
      " |-- p14: integer (nullable = true)\n",
      " |-- p15: integer (nullable = true)\n",
      " |-- p16: string (nullable = true)\n",
      " |-- p17: string (nullable = true)\n",
      "\n"
     ]
    }
   ],
   "source": [
    "#Validar el esquema\n",
    "Evaluacion.printSchema()"
   ]
  },
  {
   "cell_type": "code",
   "execution_count": 13,
   "metadata": {},
   "outputs": [],
   "source": [
    "# Homologacion de columnas tabla Evaluacion\n",
    "# fecha\tMarca temporal\n",
    "# nombre\tNombre de usuario\n",
    "# expositor\tEquipo que vas a evaluar:\n",
    "# p1\tIntroducciÃ³n: El equipo responde adecuadamente Â¿QuiÃ©nes son y por quÃ© estÃ¡n aquÃ­?\n",
    "# p2\tEquipo: El equipo responde adecuadamente Â¿QuiÃ©nes estÃ¡n detrÃ¡s de la idea y cuÃ¡l es su funciÃ³n?\n",
    "# p3\tProblema: El equipo responde adecuadamente Â¿QuÃ© problema resolverÃ¡?, Â¿es realmente un problema?\n",
    "# p4\tVentajas: El equipo responde adecuadamente Â¿Por quÃ© su soluciÃ³n es especial?, Â¿quÃ© la hace distinta de otras?\n",
    "# p5\tSoluciÃ³n: El equipo responde adecuadamente Â¿CÃ³mo piensa resolver el problema?\n",
    "# p6\tProducto: El equipo responde adecuadamente Â¿CÃ³mo funciona el producto o servicio? Muestra algunos ejemplos.\n",
    "# p7\tTracciÃ³n: El equipo responde adecuadamente si cuenta con clientes que demuestran potencial.\n",
    "# p8\tMercado: El equipo responde conoce, o por lo menos intentar predecir, el tamaÃ±o del mercado que impactarÃ¡.\n",
    "# p9\tCompetencia: El equipo responde adecuadamente Â¿CuÃ¡les son las soluciones alternativas al problema que plantea?\n",
    "# p10\tModelo de negocio: El equipo responde adecuadamente Â¿CÃ³mo harÃ¡ dinero? \n",
    "# p11\tInversiÃ³n: El equipo responde adecuadamente Â¿CuÃ¡l es su presupuesto y cuÃ¡nto espera ganar?\n",
    "# p12\tContacto: El equipo deja los datos al cliente y muestra cÃ³mo pueden contactarle.\n",
    "# p13\tExposiciÃ³n: Â¿QuÃ© tan coordinados estaban los expositores?\n",
    "# p14\tExposiciÃ³n: Â¿Los expositores se expresaron con claridad y se hicieron entender?\n",
    "# p15\tExposiciÃ³n: Las diapositivas son claras y coherentes y apoyaron adecuadamente la exposiciÃ³n.\n",
    "# p16\tSuponiendo que eres inversionista, Â¿EstarÃ­as dispuesto a invertir dinero en este equipo? (esta pregunta no se pondera en la nota)\n",
    "# p17\tObservaciones para el equipo, estas observaciones las debe considerar el equipo para mejorar la siguiente presentaciÃ³n."
   ]
  },
  {
   "cell_type": "code",
   "execution_count": 14,
   "metadata": {},
   "outputs": [],
   "source": [
    "# 2. Consulte el listado total de estudiantes (correos electrónicos) del \n",
    "# curso de Ingeniería de Software, ordenados alfabéticamente\n",
    "# Tu código a continuación..."
   ]
  },
  {
   "cell_type": "code",
   "execution_count": 15,
   "metadata": {},
   "outputs": [
    {
     "name": "stdout",
     "output_type": "stream",
     "text": [
      "+--------------------+\n",
      "|              nombre|\n",
      "+--------------------+\n",
      "| abanolc@unal.edu.co|\n",
      "|acastrillonv@unal...|\n",
      "| aflemag@unal.edu.co|\n",
      "|anapariciom@unal....|\n",
      "|angutierrezb@unal...|\n",
      "|anoriega@unal.edu.co|\n",
      "|auarbelaeza@unal....|\n",
      "| bocampo@unal.edu.co|\n",
      "|cgiraldo@unal.edu.co|\n",
      "|cjfunezg@unal.edu.co|\n",
      "|cquinchiar@unal.e...|\n",
      "| dadazam@unal.edu.co|\n",
      "|daestradam@unal.e...|\n",
      "|davgarciava@unal....|\n",
      "|dballesteroso@una...|\n",
      "|  dbrito@unal.edu.co|\n",
      "|dcadavid@unal.edu.co|\n",
      "|dcardonaal@unal.e...|\n",
      "|dchavarriar@unal....|\n",
      "|dgarciabl@unal.ed...|\n",
      "+--------------------+\n",
      "only showing top 20 rows\n",
      "\n"
     ]
    }
   ],
   "source": [
    "lista = Asistencia.select(['nombre']).distinct().orderBy(['nombre'])\n",
    "lista.show()"
   ]
  },
  {
   "cell_type": "code",
   "execution_count": 16,
   "metadata": {},
   "outputs": [],
   "source": [
    "# 3. Consulte la cantidad de asistencias registradas por estudiante; además, la fecha y hora de la primera asistencia\n",
    "# y la fecha y hora de la última asistencia\n",
    "# Tu código a continuación..."
   ]
  },
  {
   "cell_type": "code",
   "execution_count": 17,
   "metadata": {},
   "outputs": [
    {
     "name": "stdout",
     "output_type": "stream",
     "text": [
      "+--------------------+-----+\n",
      "|              nombre|count|\n",
      "+--------------------+-----+\n",
      "|samolinap@unal.ed...|   10|\n",
      "| jruedat@unal.edu.co|    8|\n",
      "|nvalenciat@unal.e...|    8|\n",
      "|serendona@unal.ed...|    8|\n",
      "|jgutierrezlo@unal...|    8|\n",
      "|dgerenal@unal.edu.co|    8|\n",
      "|cjfunezg@unal.edu.co|    8|\n",
      "|emflorezb@unal.ed...|    8|\n",
      "|dchavarriar@unal....|    8|\n",
      "|fguerrerot@unal.e...|    8|\n",
      "|jdroldano@unal.ed...|    1|\n",
      "|juriveras@unal.ed...|    8|\n",
      "|jovillarrealm@una...|   10|\n",
      "|dguardia@unal.edu.co|    8|\n",
      "| lrdiaza@unal.edu.co|    7|\n",
      "|fmiranda@unal.edu.co|    8|\n",
      "|dcadavid@unal.edu.co|    8|\n",
      "| bocampo@unal.edu.co|    8|\n",
      "|rmbuilesm@unal.ed...|    9|\n",
      "|jmunozhe@unal.edu.co|    8|\n",
      "+--------------------+-----+\n",
      "only showing top 20 rows\n",
      "\n"
     ]
    }
   ],
   "source": [
    "CantidadAsistencias = Asistencia.groupBy(['nombre']).count()\n",
    "CantidadAsistencias.show()"
   ]
  },
  {
   "cell_type": "code",
   "execution_count": 18,
   "metadata": {},
   "outputs": [
    {
     "name": "stdout",
     "output_type": "stream",
     "text": [
      "+-------------------+\n",
      "| Primera_Asistencia|\n",
      "+-------------------+\n",
      "|2021-01-08 08:07:55|\n",
      "+-------------------+\n",
      "\n",
      "+-------------------+\n",
      "|  Ultima_Asistencia|\n",
      "+-------------------+\n",
      "|2021-01-13 16:26:59|\n",
      "+-------------------+\n",
      "\n"
     ]
    }
   ],
   "source": [
    "Asistencia.createOrReplaceTempView(\"tabla\")\n",
    "\n",
    "from pyspark.sql import functions as F\n",
    "from pyspark.sql.functions import unix_timestamp\n",
    "\n",
    "corta = SesionSpark.sql('SELECT fecha, nombre, equipo, expositor, SUBSTRING(fecha,1,19) AS fecha1, SUBSTRING(fecha, 20,1) AS fecha2, SUBSTRING(fecha, 23,1) AS fecha3 FROM tabla')\n",
    "corta2 = corta.withColumn('fecha_arregla', F.concat(F.col('fecha1'),F.lit(' '),F.col('fecha2'),F.lit(''), F.col('fecha3')))\n",
    "corta2 = corta2.select('fecha','nombre','equipo','expositor','fecha_arregla')\n",
    "corta2 = corta2.withColumn(\"fechanueva\",F.to_timestamp(\"fecha_arregla\", \"yyyy/mm/dd hh:mm:ss  aa\"))\n",
    "corta2.createOrReplaceTempView(\"corta\")\n",
    "\n",
    "#Primera Asistencia\n",
    "SesionSpark.sql('SELECT MIN(fechanueva) as Primera_Asistencia FROM corta').show()\n",
    "\n",
    "#Ultima Asistencia\n",
    "SesionSpark.sql('SELECT MAX(fechanueva) as Ultima_Asistencia FROM corta').show()\n"
   ]
  },
  {
   "cell_type": "code",
   "execution_count": 19,
   "metadata": {},
   "outputs": [],
   "source": [
    "#!hdfs dfs -rm -r -f /tmp/"
   ]
  },
  {
   "cell_type": "code",
   "execution_count": 20,
   "metadata": {},
   "outputs": [],
   "source": [
    "\n",
    "# 4. Consulte el listado de estudiantes que asistieron a 2 presentaciones o menos (una).\n",
    "# Tu código a continuación..."
   ]
  },
  {
   "cell_type": "code",
   "execution_count": 21,
   "metadata": {},
   "outputs": [
    {
     "name": "stdout",
     "output_type": "stream",
     "text": [
      "+--------------------+-----+\n",
      "|              nombre|count|\n",
      "+--------------------+-----+\n",
      "|jdroldano@unal.ed...|    1|\n",
      "+--------------------+-----+\n",
      "\n"
     ]
    }
   ],
   "source": [
    "CantidadAsistencias.filter(CantidadAsistencias['count'] <= '2').show()"
   ]
  },
  {
   "cell_type": "code",
   "execution_count": 22,
   "metadata": {},
   "outputs": [],
   "source": [
    "# 5. Consulte el listado de estudiantes que no asistieron a ninguna presentación.\n",
    "# Tu código a continuación..."
   ]
  },
  {
   "cell_type": "code",
   "execution_count": 23,
   "metadata": {},
   "outputs": [
    {
     "name": "stdout",
     "output_type": "stream",
     "text": [
      "+-------+-------+-----+------+---------+---+---+---+---+---+---+---+---+---+---+---+---+---+---+---+---+---+\n",
      "|nombre1|equipo1|fecha|nombre|expositor| p1| p2| p3| p4| p5| p6| p7| p8| p9|p10|p11|p12|p13|p14|p15|p16|p17|\n",
      "+-------+-------+-----+------+---------+---+---+---+---+---+---+---+---+---+---+---+---+---+---+---+---+---+\n",
      "+-------+-------+-----+------+---------+---+---+---+---+---+---+---+---+---+---+---+---+---+---+---+---+---+\n",
      "\n"
     ]
    }
   ],
   "source": [
    "Integrantes = SesionSpark.sql('SELECT DISTINCT nombre as nombre1, SUBSTRING(equipo,15,54) AS equipo1 FROM tabla')\n",
    "PEquipo = Integrantes.join(Evaluacion, (Integrantes.nombre1 == Evaluacion.nombre), how = 'left')\n",
    "PEquipo2 = PEquipo.filter(PEquipo['equipo1'] != PEquipo['expositor'])\n",
    "PEquipo2.filter(PEquipo2['nombre'] == 'null').show()"
   ]
  },
  {
   "cell_type": "code",
   "execution_count": 24,
   "metadata": {},
   "outputs": [],
   "source": [
    "# 6. Consulte los integrantes por cada equipo al que pertenecen.\n",
    "# Tu código a continuación..."
   ]
  },
  {
   "cell_type": "code",
   "execution_count": 25,
   "metadata": {},
   "outputs": [
    {
     "name": "stdout",
     "output_type": "stream",
     "text": [
      "+--------------------+------------+\n",
      "|              nombre|     equipo1|\n",
      "+--------------------+------------+\n",
      "|jppinedal@unal.ed...|Servicios a |\n",
      "|dgarciabl@unal.ed...|Lo tengo y t|\n",
      "|auarbelaeza@unal....|Gestión de R|\n",
      "|jmunozhe@unal.edu.co|Lo tengo y t|\n",
      "|dgerenal@unal.edu.co|Te lo cambio|\n",
      "|nvalenciat@unal.e...|Te lo cambio|\n",
      "|fmiranda@unal.edu.co|Mi Sanandres|\n",
      "|jucardonaa@unal.e...|Gestión de p|\n",
      "|seagudeloo@unal.e...|Gestión de R|\n",
      "|jmonsalveb@unal.e...|Gestión de p|\n",
      "|juortizt@unal.edu.co|Te lo cambio|\n",
      "|eporrasm@unal.edu.co|Mi Sanandres|\n",
      "|jmunozbo@unal.edu.co|Servicios a |\n",
      "|daestradam@unal.e...|Lo tengo y t|\n",
      "|serendona@unal.ed...|Gestión de p|\n",
      "|mimorenov@unal.ed...|Te lo cambio|\n",
      "|lumarinb@unal.edu.co|Administraci|\n",
      "|jlopezpe@unal.edu.co|Lo tengo y t|\n",
      "|jcardonaso@unal.e...|Gestión de M|\n",
      "|lbarcelo@unal.edu.co|Lo tengo y t|\n",
      "+--------------------+------------+\n",
      "only showing top 20 rows\n",
      "\n"
     ]
    }
   ],
   "source": [
    "\n",
    "Asistencia.createOrReplaceTempView(\"tabla\")\n",
    "Asistencia1 = SesionSpark.sql('SELECT nombre, SUBSTRING(equipo,15,12) AS equipo1 FROM tabla')\n",
    "Asistencia1.show()\n"
   ]
  },
  {
   "cell_type": "code",
   "execution_count": 26,
   "metadata": {},
   "outputs": [
    {
     "name": "stdout",
     "output_type": "stream",
     "text": [
      "+------------+-----+\n",
      "|     equipo1|count|\n",
      "+------------+-----+\n",
      "|Mi Sanandres|   83|\n",
      "|Administraci|   95|\n",
      "|Gestión de M|   84|\n",
      "|Lo tengo y t|   87|\n",
      "|Servicios a |   65|\n",
      "|Gestión de p|   73|\n",
      "|Te lo cambio|   89|\n",
      "|Gestión de R|   86|\n",
      "+------------+-----+\n",
      "\n"
     ]
    }
   ],
   "source": [
    "\n",
    "Asistencia1.groupBy(['equipo1']).count().show()"
   ]
  },
  {
   "cell_type": "code",
   "execution_count": 27,
   "metadata": {},
   "outputs": [
    {
     "name": "stdout",
     "output_type": "stream",
     "text": [
      "+--------------------+------------+\n",
      "|              nombre|     equipo1|\n",
      "+--------------------+------------+\n",
      "|dballesteroso@una...|Te lo cambio|\n",
      "|dgerenal@unal.edu.co|Te lo cambio|\n",
      "|nvalenciat@unal.e...|Te lo cambio|\n",
      "|mimorenov@unal.ed...|Te lo cambio|\n",
      "|jgutierrezlo@unal...|Te lo cambio|\n",
      "|juortizt@unal.edu.co|Te lo cambio|\n",
      "|mhernandezbe@unal...|Te lo cambio|\n",
      "|anoriega@unal.edu.co|Te lo cambio|\n",
      "|sasalazarr@unal.e...|Te lo cambio|\n",
      "|parestrepoo@unal....|Te lo cambio|\n",
      "|fguerrerot@unal.e...|Te lo cambio|\n",
      "+--------------------+------------+\n",
      "\n",
      "+--------------------+------------+\n",
      "|              nombre|     equipo1|\n",
      "+--------------------+------------+\n",
      "|samolinap@unal.ed...|Administraci|\n",
      "| kmolano@unal.edu.co|Administraci|\n",
      "|angutierrezb@unal...|Administraci|\n",
      "|nsalinas@unal.edu.co|Administraci|\n",
      "|lumarinb@unal.edu.co|Administraci|\n",
      "|emflorezb@unal.ed...|Administraci|\n",
      "|framirezf@unal.ed...|Administraci|\n",
      "| eapenad@unal.edu.co|Administraci|\n",
      "| jortize@unal.edu.co|Administraci|\n",
      "|jhcordoba@unal.ed...|Administraci|\n",
      "|sednarvaezna@unal...|Administraci|\n",
      "|saespinosab@unal....|Administraci|\n",
      "|rmbuilesm@unal.ed...|Administraci|\n",
      "+--------------------+------------+\n",
      "\n",
      "+--------------------+------------+\n",
      "|              nombre|     equipo1|\n",
      "+--------------------+------------+\n",
      "| aflemag@unal.edu.co|Mi Sanandres|\n",
      "|jovillarrealm@una...|Mi Sanandres|\n",
      "|dcadavid@unal.edu.co|Mi Sanandres|\n",
      "|fmiranda@unal.edu.co|Mi Sanandres|\n",
      "|esgarciac@unal.ed...|Mi Sanandres|\n",
      "| mcallea@unal.edu.co|Mi Sanandres|\n",
      "|eporrasm@unal.edu.co|Mi Sanandres|\n",
      "|juochoag@unal.edu.co|Mi Sanandres|\n",
      "|   tleon@unal.edu.co|Mi Sanandres|\n",
      "| dadazam@unal.edu.co|Mi Sanandres|\n",
      "+--------------------+------------+\n",
      "\n",
      "+--------------------+------------+\n",
      "|              nombre|     equipo1|\n",
      "+--------------------+------------+\n",
      "|jjmonsalvem@unal....|Gestión de M|\n",
      "|davgarciava@unal....|Gestión de M|\n",
      "|   lmazo@unal.edu.co|Gestión de M|\n",
      "| lrdiaza@unal.edu.co|Gestión de M|\n",
      "|emlopezr@unal.edu.co|Gestión de M|\n",
      "|anapariciom@unal....|Gestión de M|\n",
      "| abanolc@unal.edu.co|Gestión de M|\n",
      "|hriveraa@unal.edu.co|Gestión de M|\n",
      "|jcardonaso@unal.e...|Gestión de M|\n",
      "|favasquezj@unal.e...|Gestión de M|\n",
      "|mcarvajalsa@unal....|Gestión de M|\n",
      "+--------------------+------------+\n",
      "\n",
      "+--------------------+------------+\n",
      "|              nombre|     equipo1|\n",
      "+--------------------+------------+\n",
      "|jhcordoba@unal.ed...|Lo tengo y t|\n",
      "|jlopezpe@unal.edu.co|Lo tengo y t|\n",
      "|dgiraldolo@unal.e...|Lo tengo y t|\n",
      "|daestradam@unal.e...|Lo tengo y t|\n",
      "| wocampo@unal.edu.co|Lo tengo y t|\n",
      "|jfernandezmo@unal...|Lo tengo y t|\n",
      "|jcorreapa@unal.ed...|Lo tengo y t|\n",
      "|dgarciabl@unal.ed...|Lo tengo y t|\n",
      "|jmunozhe@unal.edu.co|Lo tengo y t|\n",
      "|jubuitrago@unal.e...|Lo tengo y t|\n",
      "|lbarcelo@unal.edu.co|Lo tengo y t|\n",
      "+--------------------+------------+\n",
      "\n",
      "+--------------------+------------+\n",
      "|              nombre|     equipo1|\n",
      "+--------------------+------------+\n",
      "|cjfunezg@unal.edu.co|Servicios a |\n",
      "|jppinedal@unal.ed...|Servicios a |\n",
      "|jmunozbo@unal.edu.co|Servicios a |\n",
      "| jruedat@unal.edu.co|Servicios a |\n",
      "|sebermudezg@unal....|Servicios a |\n",
      "|jdroldano@unal.ed...|Servicios a |\n",
      "|dosoriom@unal.edu.co|Servicios a |\n",
      "| bocampo@unal.edu.co|Servicios a |\n",
      "|anapariciom@unal....|Servicios a |\n",
      "|sacastrot@unal.ed...|Servicios a |\n",
      "+--------------------+------------+\n",
      "\n",
      "+--------------------+------------+\n",
      "|              nombre|     equipo1|\n",
      "+--------------------+------------+\n",
      "| kmolano@unal.edu.co|Gestión de p|\n",
      "|acastrillonv@unal...|Gestión de p|\n",
      "|  lmayar@unal.edu.co|Gestión de p|\n",
      "|jspatinoa@unal.ed...|Gestión de p|\n",
      "|jucardonaa@unal.e...|Gestión de p|\n",
      "|elondonoc@unal.ed...|Gestión de p|\n",
      "|serendona@unal.ed...|Gestión de p|\n",
      "|dchavarriar@unal....|Gestión de p|\n",
      "|jmonsalveb@unal.e...|Gestión de p|\n",
      "+--------------------+------------+\n",
      "\n",
      "+--------------------+------------+\n",
      "|              nombre|     equipo1|\n",
      "+--------------------+------------+\n",
      "|dcardonaal@unal.e...|Gestión de R|\n",
      "|dguardia@unal.edu.co|Gestión de R|\n",
      "|juriveras@unal.ed...|Gestión de R|\n",
      "|cgiraldo@unal.edu.co|Gestión de R|\n",
      "|cquinchiar@unal.e...|Gestión de R|\n",
      "|keariasb@unal.edu.co|Gestión de R|\n",
      "|mizapataa@unal.ed...|Gestión de R|\n",
      "|seagudeloo@unal.e...|Gestión de R|\n",
      "|mcarvajalsa@unal....|Gestión de R|\n",
      "|jugutierrezt@unal...|Gestión de R|\n",
      "|  dbrito@unal.edu.co|Gestión de R|\n",
      "|auarbelaeza@unal....|Gestión de R|\n",
      "+--------------------+------------+\n",
      "\n"
     ]
    }
   ],
   "source": [
    "Asistencia1.filter(Asistencia1['equipo1'] == 'Te lo cambio').distinct().show()\n",
    "Asistencia1.filter(Asistencia1['equipo1'] == 'Administraci').distinct().show()\n",
    "Asistencia1.filter(Asistencia1['equipo1'] == 'Mi Sanandres').distinct().show()\n",
    "Asistencia1.filter(Asistencia1['equipo1'] == 'Gestión de M').distinct().show()\n",
    "Asistencia1.filter(Asistencia1['equipo1'] == 'Lo tengo y t').distinct().show()\n",
    "Asistencia1.filter(Asistencia1['equipo1'] == 'Servicios a ').distinct().show()\n",
    "Asistencia1.filter(Asistencia1['equipo1'] == 'Gestión de p').distinct().show()\n",
    "Asistencia1.filter(Asistencia1['equipo1'] == 'Gestión de R').distinct().show()"
   ]
  },
  {
   "cell_type": "code",
   "execution_count": 28,
   "metadata": {},
   "outputs": [],
   "source": [
    "# 7. Consulte la cantidad de asistentes por presentación, sin considerar los asistentes que pertenecen \n",
    "# al equipo que realizó la presentación.\n",
    "# Tu código a continuación..."
   ]
  },
  {
   "cell_type": "code",
   "execution_count": 29,
   "metadata": {},
   "outputs": [
    {
     "name": "stdout",
     "output_type": "stream",
     "text": [
      "+--------------------+-----+\n",
      "|             expone1|count|\n",
      "+--------------------+-----+\n",
      "|Servicios a domic...|   76|\n",
      "|Lo tengo y te lo ...|   75|\n",
      "|Gestión de Reside...|   72|\n",
      "|       Te lo cambio.|   75|\n",
      "|Administración de...|   70|\n",
      "|Deserción de estu...|    3|\n",
      "|Gestión de Menús ...|   72|\n",
      "|Gestión de progra...|   74|\n",
      "|     Mi Sanandresito|   72|\n",
      "+--------------------+-----+\n",
      "\n"
     ]
    }
   ],
   "source": [
    "Cant1 = Asistencia.select('nombre', F.substring('equipo', 15,54).alias('equipo1'), F.substring('expositor', 9,54).alias('expone1'))\n",
    "Cant2 = Cant1.filter(Cant1['equipo1'] != Cant1['expone1'])\n",
    "Cant2.groupBy(['expone1']).count().show()"
   ]
  },
  {
   "cell_type": "code",
   "execution_count": 30,
   "metadata": {},
   "outputs": [],
   "source": [
    "# 8. Consutar cuáles integrantes evaluaron a su propio equipo. Estas evaluaciones no serán válidas, pues un\n",
    "# integrante no puede evaluar a su propio equipo.\n",
    "# Tu código a continuación..."
   ]
  },
  {
   "cell_type": "code",
   "execution_count": 31,
   "metadata": {},
   "outputs": [
    {
     "name": "stdout",
     "output_type": "stream",
     "text": [
      "+--------------------+\n",
      "|              nombre|\n",
      "+--------------------+\n",
      "| kmolano@unal.edu.co|\n",
      "|anapariciom@unal....|\n",
      "|hriveraa@unal.edu.co|\n",
      "|mcarvajalsa@unal....|\n",
      "|  lmayar@unal.edu.co|\n",
      "| jruedat@unal.edu.co|\n",
      "|daestradam@unal.e...|\n",
      "|jhcordoba@unal.ed...|\n",
      "+--------------------+\n",
      "\n"
     ]
    }
   ],
   "source": [
    "Integrantes = SesionSpark.sql('SELECT DISTINCT nombre as nombre1, SUBSTRING(equipo,15,54) AS equipo1 FROM tabla')\n",
    "PropioEquipo = Evaluacion.join(Integrantes, (Evaluacion.nombre == Integrantes.nombre1), how = 'left')\n",
    "PropioEquipo1 = PropioEquipo.filter(PropioEquipo['equipo1'] == PropioEquipo['expositor'])\n",
    "PropioEquipo1.select(['nombre']).show()"
   ]
  },
  {
   "cell_type": "code",
   "execution_count": 32,
   "metadata": {},
   "outputs": [],
   "source": [
    "# 9. Consultar la nota promedio por cada ítem (1 al 15), y la nota promedio total del cada equipo. Recuerde que no\n",
    "# son válidas las evaluaciones realizadas por los miembros del mismo equipo.\n",
    "# Tu código a continuación..."
   ]
  },
  {
   "cell_type": "code",
   "execution_count": 33,
   "metadata": {},
   "outputs": [],
   "source": [
    "PropioEquipo2 = PropioEquipo.filter(PropioEquipo['equipo1'] != PropioEquipo['expositor'])"
   ]
  },
  {
   "cell_type": "code",
   "execution_count": 34,
   "metadata": {},
   "outputs": [
    {
     "name": "stdout",
     "output_type": "stream",
     "text": [
      "+------------------+\n",
      "|             avgp1|\n",
      "+------------------+\n",
      "|4.3579831932773105|\n",
      "+------------------+\n",
      "\n",
      "+------------------+\n",
      "|             avgp2|\n",
      "+------------------+\n",
      "|4.2974789915966385|\n",
      "+------------------+\n",
      "\n",
      "+----------------+\n",
      "|           avgp3|\n",
      "+----------------+\n",
      "|4.37983193277311|\n",
      "+----------------+\n",
      "\n",
      "+-----------------+\n",
      "|            avgp4|\n",
      "+-----------------+\n",
      "|4.169747899159664|\n",
      "+-----------------+\n",
      "\n",
      "+-----------------+\n",
      "|            avgp5|\n",
      "+-----------------+\n",
      "|4.371428571428571|\n",
      "+-----------------+\n",
      "\n",
      "+-----------------+\n",
      "|            avgp6|\n",
      "+-----------------+\n",
      "|4.442016806722689|\n",
      "+-----------------+\n",
      "\n",
      "+-----------------+\n",
      "|            avgp7|\n",
      "+-----------------+\n",
      "|4.243697478991597|\n",
      "+-----------------+\n",
      "\n",
      "+-----------------+\n",
      "|            avgp8|\n",
      "+-----------------+\n",
      "|4.341176470588235|\n",
      "+-----------------+\n",
      "\n",
      "+-----------------+\n",
      "|            avgp9|\n",
      "+-----------------+\n",
      "|4.188235294117647|\n",
      "+-----------------+\n",
      "\n",
      "+-----------------+\n",
      "|           avgp10|\n",
      "+-----------------+\n",
      "|4.416806722689076|\n",
      "+-----------------+\n",
      "\n",
      "+-----------------+\n",
      "|           avgp11|\n",
      "+-----------------+\n",
      "|4.221848739495798|\n",
      "+-----------------+\n",
      "\n",
      "+-----------------+\n",
      "|           avgp12|\n",
      "+-----------------+\n",
      "|4.509243697478992|\n",
      "+-----------------+\n",
      "\n",
      "+-----------------+\n",
      "|           avgp13|\n",
      "+-----------------+\n",
      "|4.436974789915967|\n",
      "+-----------------+\n",
      "\n",
      "+-----------------+\n",
      "|           avgp14|\n",
      "+-----------------+\n",
      "|4.436974789915967|\n",
      "+-----------------+\n",
      "\n",
      "+-----------------+\n",
      "|           avgp15|\n",
      "+-----------------+\n",
      "|4.480672268907563|\n",
      "+-----------------+\n",
      "\n"
     ]
    }
   ],
   "source": [
    "PropioEquipo2.agg(F.avg('p1').alias('avgp1')).show()\n",
    "PropioEquipo2.agg(F.avg('p2').alias('avgp2')).show()\n",
    "PropioEquipo2.agg(F.avg('p3').alias('avgp3')).show()\n",
    "PropioEquipo2.agg(F.avg('p4').alias('avgp4')).show()\n",
    "PropioEquipo2.agg(F.avg('p5').alias('avgp5')).show()\n",
    "PropioEquipo2.agg(F.avg('p6').alias('avgp6')).show()\n",
    "PropioEquipo2.agg(F.avg('p7').alias('avgp7')).show()\n",
    "PropioEquipo2.agg(F.avg('p8').alias('avgp8')).show()\n",
    "PropioEquipo2.agg(F.avg('p9').alias('avgp9')).show()\n",
    "PropioEquipo2.agg(F.avg('p10').alias('avgp10')).show()\n",
    "PropioEquipo2.agg(F.avg('p11').alias('avgp11')).show()\n",
    "PropioEquipo2.agg(F.avg('p12').alias('avgp12')).show()\n",
    "PropioEquipo2.agg(F.avg('p13').alias('avgp13')).show()\n",
    "PropioEquipo2.agg(F.avg('p14').alias('avgp14')).show()\n",
    "PropioEquipo2.agg(F.avg('p15').alias('avgp15')).show()"
   ]
  },
  {
   "cell_type": "code",
   "execution_count": 35,
   "metadata": {},
   "outputs": [
    {
     "name": "stdout",
     "output_type": "stream",
     "text": [
      "+--------------------+------------------+\n",
      "|           expositor|    Promedio Total|\n",
      "+--------------------+------------------+\n",
      "|Servicios a domic...|3.8180180180180177|\n",
      "|Lo tengo y te lo ...|3.8666666666666663|\n",
      "|Gestión de Reside...|3.8805555555555555|\n",
      "|       Te lo cambio.|3.6745614035087724|\n",
      "|Administración de...| 3.629629629629629|\n",
      "|Deserción de estu...| 4.133333333333334|\n",
      "|Gestión de Menús ...|3.7486486486486488|\n",
      "|Gestión de progra...|3.7884444444444445|\n",
      "|     Mi Sanandresito|3.6580086580086593|\n",
      "+--------------------+------------------+\n",
      "\n"
     ]
    }
   ],
   "source": [
    "PropioEquipo2.select('expositor','p1','p2','p3','p4','p5','p6','p7','p8','p9','p10','p11','p12','p13').groupBy('expositor').agg(((F.avg('p1')+F.avg('p2')+F.avg('p3')+F.avg('p4')+F.avg('p5')+F.avg('p6')+F.avg('p7')+F.avg('p8')+F.avg('p9')+F.avg('p10')+F.avg('p11')+F.avg('p12')+F.avg('p13'))/15).alias('Promedio Total')).show()"
   ]
  },
  {
   "cell_type": "code",
   "execution_count": 36,
   "metadata": {},
   "outputs": [],
   "source": [
    "# 10. Consulte el mejor equipo evaluado por cada ítem (según nota promedio. En caso de empate mostrar todos los empatados) \n",
    "# y el mejor equipo según el promedio total.\n",
    "# Tu código a continuación..."
   ]
  },
  {
   "cell_type": "code",
   "execution_count": 37,
   "metadata": {},
   "outputs": [],
   "source": [
    "TF = PropioEquipo2.select('expositor','p1','p2','p3','p4','p5','p6','p7','p8','p9','p10','p11','p12','p13').groupBy('expositor').agg(((F.avg('p1')+F.avg('p2')+F.avg('p3')+F.avg('p4')+F.avg('p5')+F.avg('p6')+F.avg('p7')+F.avg('p8')+F.avg('p9')+F.avg('p10')+F.avg('p11')+F.avg('p12')+F.avg('p13'))/15).alias('promedio_total'))"
   ]
  },
  {
   "cell_type": "code",
   "execution_count": 38,
   "metadata": {},
   "outputs": [
    {
     "name": "stdout",
     "output_type": "stream",
     "text": [
      "+--------------------+-----------------+\n",
      "|           expositor|            avgp1|\n",
      "+--------------------+-----------------+\n",
      "|Gestión de Reside...|4.555555555555555|\n",
      "+--------------------+-----------------+\n",
      "\n",
      "+--------------------+-----+\n",
      "|           expositor|avgp2|\n",
      "+--------------------+-----+\n",
      "|Deserción de estu...|  5.0|\n",
      "+--------------------+-----+\n",
      "\n",
      "+--------------------+-----+\n",
      "|           expositor|avgp3|\n",
      "+--------------------+-----+\n",
      "|Deserción de estu...|  5.0|\n",
      "+--------------------+-----+\n",
      "\n",
      "+--------------------+-----+\n",
      "|           expositor|avgp4|\n",
      "+--------------------+-----+\n",
      "|Deserción de estu...|  5.0|\n",
      "+--------------------+-----+\n",
      "\n",
      "+--------------------+-----------------+\n",
      "|           expositor|            avgp5|\n",
      "+--------------------+-----------------+\n",
      "|Servicios a domic...|4.513513513513513|\n",
      "+--------------------+-----------------+\n",
      "\n",
      "+--------------------+-----+\n",
      "|           expositor|avgp6|\n",
      "+--------------------+-----+\n",
      "|Deserción de estu...|  5.0|\n",
      "+--------------------+-----+\n",
      "\n",
      "+--------------------+-----+\n",
      "|           expositor|avgp7|\n",
      "+--------------------+-----+\n",
      "|Deserción de estu...|  5.0|\n",
      "+--------------------+-----+\n",
      "\n",
      "+--------------------+-----------------+\n",
      "|           expositor|            avgp8|\n",
      "+--------------------+-----------------+\n",
      "|Gestión de Reside...|4.680555555555555|\n",
      "+--------------------+-----------------+\n",
      "\n",
      "+--------------------+-----+\n",
      "|           expositor|avgp9|\n",
      "+--------------------+-----+\n",
      "|Deserción de estu...|  5.0|\n",
      "+--------------------+-----+\n",
      "\n",
      "+--------------------+-----------------+\n",
      "|           expositor|           avgp10|\n",
      "+--------------------+-----------------+\n",
      "|Gestión de Menús ...|4.635135135135135|\n",
      "+--------------------+-----------------+\n",
      "\n",
      "+--------------------+-----------------+\n",
      "|           expositor|           avgp11|\n",
      "+--------------------+-----------------+\n",
      "|Gestión de progra...|4.506666666666667|\n",
      "+--------------------+-----------------+\n",
      "\n",
      "+--------------------+------+\n",
      "|           expositor|avgp12|\n",
      "+--------------------+------+\n",
      "|Deserción de estu...|   5.0|\n",
      "+--------------------+------+\n",
      "\n",
      "+-------------+-----------------+\n",
      "|    expositor|           avgp13|\n",
      "+-------------+-----------------+\n",
      "|Te lo cambio.|4.565789473684211|\n",
      "+-------------+-----------------+\n",
      "\n",
      "+--------------------+-----------------+\n",
      "|           expositor|           avgp14|\n",
      "+--------------------+-----------------+\n",
      "|Lo tengo y te lo ...|4.602739726027397|\n",
      "+--------------------+-----------------+\n",
      "\n",
      "+--------------------+------+\n",
      "|           expositor|avgp15|\n",
      "+--------------------+------+\n",
      "|Deserción de estu...|   5.0|\n",
      "+--------------------+------+\n",
      "\n"
     ]
    }
   ],
   "source": [
    "T1 = PropioEquipo2.select('expositor','p1').groupBy('expositor').agg(F.avg('p1').alias('avgp1'))\n",
    "T2 = PropioEquipo2.select('expositor','p2').groupBy('expositor').agg(F.avg('p2').alias('avgp2'))\n",
    "T3 = PropioEquipo2.select('expositor','p3').groupBy('expositor').agg(F.avg('p3').alias('avgp3'))\n",
    "T4 = PropioEquipo2.select('expositor','p4').groupBy('expositor').agg(F.avg('p4').alias('avgp4'))\n",
    "T5 = PropioEquipo2.select('expositor','p5').groupBy('expositor').agg(F.avg('p5').alias('avgp5'))\n",
    "T6 = PropioEquipo2.select('expositor','p6').groupBy('expositor').agg(F.avg('p6').alias('avgp6'))\n",
    "T7 = PropioEquipo2.select('expositor','p7').groupBy('expositor').agg(F.avg('p7').alias('avgp7'))\n",
    "T8 = PropioEquipo2.select('expositor','p8').groupBy('expositor').agg(F.avg('p8').alias('avgp8'))\n",
    "T9 = PropioEquipo2.select('expositor','p9').groupBy('expositor').agg(F.avg('p9').alias('avgp9'))\n",
    "T10 = PropioEquipo2.select('expositor','p10').groupBy('expositor').agg(F.avg('p10').alias('avgp10'))\n",
    "T11 = PropioEquipo2.select('expositor','p11').groupBy('expositor').agg(F.avg('p11').alias('avgp11'))\n",
    "T12 = PropioEquipo2.select('expositor','p12').groupBy('expositor').agg(F.avg('p12').alias('avgp12'))\n",
    "T13 = PropioEquipo2.select('expositor','p13').groupBy('expositor').agg(F.avg('p13').alias('avgp13'))\n",
    "T14 = PropioEquipo2.select('expositor','p14').groupBy('expositor').agg(F.avg('p14').alias('avgp14'))\n",
    "T15 = PropioEquipo2.select('expositor','p15').groupBy('expositor').agg(F.avg('p15').alias('avgp15'))\n",
    "\n",
    "T1.createOrReplaceTempView(\"t1\")\n",
    "T2.createOrReplaceTempView(\"t2\")\n",
    "T3.createOrReplaceTempView(\"t3\")\n",
    "T4.createOrReplaceTempView(\"t4\")\n",
    "T5.createOrReplaceTempView(\"t5\")\n",
    "T6.createOrReplaceTempView(\"t6\")\n",
    "T7.createOrReplaceTempView(\"t7\")\n",
    "T8.createOrReplaceTempView(\"t8\")\n",
    "T9.createOrReplaceTempView(\"t9\")\n",
    "T10.createOrReplaceTempView(\"t10\")\n",
    "T11.createOrReplaceTempView(\"t11\")\n",
    "T12.createOrReplaceTempView(\"t12\")\n",
    "T13.createOrReplaceTempView(\"t13\")\n",
    "T14.createOrReplaceTempView(\"t14\")\n",
    "T15.createOrReplaceTempView(\"t15\")\n",
    "TF.createOrReplaceTempView(\"tf\")\n",
    "\n",
    "SesionSpark.sql('SELECT * FROM t1 WHERE avgp1 = (SELECT MAX(avgp1) FROM t1)').show()\n",
    "SesionSpark.sql('SELECT * FROM t2 WHERE avgp2 = (SELECT MAX(avgp2) FROM t2)').show()\n",
    "SesionSpark.sql('SELECT * FROM t3 WHERE avgp3 = (SELECT MAX(avgp3) FROM t3)').show()\n",
    "SesionSpark.sql('SELECT * FROM t4 WHERE avgp4 = (SELECT MAX(avgp4) FROM t4)').show()\n",
    "SesionSpark.sql('SELECT * FROM t5 WHERE avgp5 = (SELECT MAX(avgp5) FROM t5)').show()\n",
    "SesionSpark.sql('SELECT * FROM t6 WHERE avgp6 = (SELECT MAX(avgp6) FROM t6)').show()\n",
    "SesionSpark.sql('SELECT * FROM t7 WHERE avgp7 = (SELECT MAX(avgp7) FROM t7)').show()\n",
    "SesionSpark.sql('SELECT * FROM t8 WHERE avgp8 = (SELECT MAX(avgp8) FROM t8)').show()\n",
    "SesionSpark.sql('SELECT * FROM t9 WHERE avgp9 = (SELECT MAX(avgp9) FROM t9)').show()\n",
    "SesionSpark.sql('SELECT * FROM t10 WHERE avgp10 = (SELECT MAX(avgp10) FROM t10)').show()\n",
    "SesionSpark.sql('SELECT * FROM t11 WHERE avgp11 = (SELECT MAX(avgp11) FROM t11)').show()\n",
    "SesionSpark.sql('SELECT * FROM t12 WHERE avgp12 = (SELECT MAX(avgp12) FROM t12)').show()\n",
    "SesionSpark.sql('SELECT * FROM t13 WHERE avgp13 = (SELECT MAX(avgp13) FROM t13)').show()\n",
    "SesionSpark.sql('SELECT * FROM t14 WHERE avgp14 = (SELECT MAX(avgp14) FROM t14)').show()\n",
    "SesionSpark.sql('SELECT * FROM t15 WHERE avgp15 = (SELECT MAX(avgp15) FROM t15)').show()"
   ]
  },
  {
   "cell_type": "code",
   "execution_count": 39,
   "metadata": {},
   "outputs": [
    {
     "name": "stdout",
     "output_type": "stream",
     "text": [
      "+--------------------+-----------------+\n",
      "|           expositor|   promedio_total|\n",
      "+--------------------+-----------------+\n",
      "|Deserción de estu...|4.133333333333334|\n",
      "+--------------------+-----------------+\n",
      "\n"
     ]
    }
   ],
   "source": [
    "SesionSpark.sql('SELECT * FROM tf WHERE promedio_total = (SELECT MAX(promedio_total) FROM tf)').show()"
   ]
  },
  {
   "cell_type": "code",
   "execution_count": 40,
   "metadata": {},
   "outputs": [],
   "source": [
    "# 11. Consulte el peor equipo evaluado por cada ítem (según nota promedio. En caso de empate mostrar todos los empatados) \n",
    "# y el peor equipo según el promedio total.\n",
    "# Tu código a continuación..."
   ]
  },
  {
   "cell_type": "code",
   "execution_count": 41,
   "metadata": {},
   "outputs": [
    {
     "name": "stdout",
     "output_type": "stream",
     "text": [
      "+--------------------+-----------------+\n",
      "|           expositor|            avgp1|\n",
      "+--------------------+-----------------+\n",
      "|Administración de...|4.111111111111111|\n",
      "+--------------------+-----------------+\n",
      "\n",
      "+---------------+-----------------+\n",
      "|      expositor|            avgp2|\n",
      "+---------------+-----------------+\n",
      "|Mi Sanandresito|3.935064935064935|\n",
      "+---------------+-----------------+\n",
      "\n",
      "+--------------------+------------------+\n",
      "|           expositor|             avgp3|\n",
      "+--------------------+------------------+\n",
      "|Administración de...|3.9722222222222223|\n",
      "+--------------------+------------------+\n",
      "\n",
      "+--------------------+-----+\n",
      "|           expositor|avgp4|\n",
      "+--------------------+-----+\n",
      "|Gestión de progra...| 3.92|\n",
      "+--------------------+-----+\n",
      "\n",
      "+--------------------+-----------------+\n",
      "|           expositor|            avgp5|\n",
      "+--------------------+-----------------+\n",
      "|Administración de...|4.152777777777778|\n",
      "+--------------------+-----------------+\n",
      "\n",
      "+--------------------+----------------+\n",
      "|           expositor|           avgp6|\n",
      "+--------------------+----------------+\n",
      "|Gestión de Menús ...|4.04054054054054|\n",
      "+--------------------+----------------+\n",
      "\n",
      "+--------------------+-----------------+\n",
      "|           expositor|            avgp7|\n",
      "+--------------------+-----------------+\n",
      "|Administración de...|4.041666666666667|\n",
      "+--------------------+-----------------+\n",
      "\n",
      "+-------------+-----------------+\n",
      "|    expositor|            avgp8|\n",
      "+-------------+-----------------+\n",
      "|Te lo cambio.|4.052631578947368|\n",
      "+-------------+-----------------+\n",
      "\n",
      "+---------------+------------------+\n",
      "|      expositor|             avgp9|\n",
      "+---------------+------------------+\n",
      "|Mi Sanandresito|3.5454545454545454|\n",
      "+---------------+------------------+\n",
      "\n",
      "+--------------------+-----------------+\n",
      "|           expositor|           avgp10|\n",
      "+--------------------+-----------------+\n",
      "|Gestión de progra...|4.293333333333333|\n",
      "+--------------------+-----------------+\n",
      "\n",
      "+-------------+------------------+\n",
      "|    expositor|            avgp11|\n",
      "+-------------+------------------+\n",
      "|Te lo cambio.|3.6447368421052633|\n",
      "+-------------+------------------+\n",
      "\n",
      "+--------------------+-----------------+\n",
      "|           expositor|           avgp12|\n",
      "+--------------------+-----------------+\n",
      "|Administración de...|4.152777777777778|\n",
      "+--------------------+-----------------+\n",
      "\n",
      "+---------------+-----------------+\n",
      "|      expositor|           avgp13|\n",
      "+---------------+-----------------+\n",
      "|Mi Sanandresito|4.259740259740259|\n",
      "+---------------+-----------------+\n",
      "\n",
      "+---------------+------------------+\n",
      "|      expositor|            avgp14|\n",
      "+---------------+------------------+\n",
      "|Mi Sanandresito|4.1688311688311686|\n",
      "+---------------+------------------+\n",
      "\n",
      "+--------------------+-----------------+\n",
      "|           expositor|           avgp15|\n",
      "+--------------------+-----------------+\n",
      "|Administración de...|4.138888888888889|\n",
      "+--------------------+-----------------+\n",
      "\n"
     ]
    }
   ],
   "source": [
    "SesionSpark.sql('SELECT * FROM t1 WHERE avgp1 = (SELECT MIN(avgp1) FROM t1)').show()\n",
    "SesionSpark.sql('SELECT * FROM t2 WHERE avgp2 = (SELECT MIN(avgp2) FROM t2)').show()\n",
    "SesionSpark.sql('SELECT * FROM t3 WHERE avgp3 = (SELECT MIN(avgp3) FROM t3)').show()\n",
    "SesionSpark.sql('SELECT * FROM t4 WHERE avgp4 = (SELECT MIN(avgp4) FROM t4)').show()\n",
    "SesionSpark.sql('SELECT * FROM t5 WHERE avgp5 = (SELECT MIN(avgp5) FROM t5)').show()\n",
    "SesionSpark.sql('SELECT * FROM t6 WHERE avgp6 = (SELECT MIN(avgp6) FROM t6)').show()\n",
    "SesionSpark.sql('SELECT * FROM t7 WHERE avgp7 = (SELECT MIN(avgp7) FROM t7)').show()\n",
    "SesionSpark.sql('SELECT * FROM t8 WHERE avgp8 = (SELECT MIN(avgp8) FROM t8)').show()\n",
    "SesionSpark.sql('SELECT * FROM t9 WHERE avgp9 = (SELECT MIN(avgp9) FROM t9)').show()\n",
    "SesionSpark.sql('SELECT * FROM t10 WHERE avgp10 = (SELECT MIN(avgp10) FROM t10)').show()\n",
    "SesionSpark.sql('SELECT * FROM t11 WHERE avgp11 = (SELECT MIN(avgp11) FROM t11)').show()\n",
    "SesionSpark.sql('SELECT * FROM t12 WHERE avgp12 = (SELECT MIN(avgp12) FROM t12)').show()\n",
    "SesionSpark.sql('SELECT * FROM t13 WHERE avgp13 = (SELECT MIN(avgp13) FROM t13)').show()\n",
    "SesionSpark.sql('SELECT * FROM t14 WHERE avgp14 = (SELECT MIN(avgp14) FROM t14)').show()\n",
    "SesionSpark.sql('SELECT * FROM t15 WHERE avgp15 = (SELECT MIN(avgp15) FROM t15)').show()"
   ]
  },
  {
   "cell_type": "code",
   "execution_count": 42,
   "metadata": {},
   "outputs": [
    {
     "name": "stdout",
     "output_type": "stream",
     "text": [
      "+--------------------+-----------------+\n",
      "|           expositor|   promedio_total|\n",
      "+--------------------+-----------------+\n",
      "|Administración de...|3.629629629629629|\n",
      "+--------------------+-----------------+\n",
      "\n"
     ]
    }
   ],
   "source": [
    "SesionSpark.sql('SELECT * FROM tf WHERE promedio_total = (SELECT MIN(promedio_total) FROM tf)').show()"
   ]
  },
  {
   "cell_type": "code",
   "execution_count": 43,
   "metadata": {},
   "outputs": [],
   "source": [
    "# 12. Consulte la lista de estudiantes con la correspondiente nota obtenida en la presentación \n",
    "# (nota promedio total de la evaluación obtenida por el equipo)\n",
    "# Tu código a continuación..."
   ]
  },
  {
   "cell_type": "code",
   "execution_count": 44,
   "metadata": {},
   "outputs": [
    {
     "name": "stdout",
     "output_type": "stream",
     "text": [
      "+--------------------+------------------+\n",
      "|             nombre1|    promedio_total|\n",
      "+--------------------+------------------+\n",
      "|sebermudezg@unal....|3.8180180180180177|\n",
      "|jmunozbo@unal.edu.co|3.8180180180180177|\n",
      "|anapariciom@unal....|3.8180180180180177|\n",
      "| bocampo@unal.edu.co|3.8180180180180177|\n",
      "|sacastrot@unal.ed...|3.8180180180180177|\n",
      "|jppinedal@unal.ed...|3.8180180180180177|\n",
      "|dosoriom@unal.edu.co|3.8180180180180177|\n",
      "|jdroldano@unal.ed...|3.8180180180180177|\n",
      "|cjfunezg@unal.edu.co|3.8180180180180177|\n",
      "| jruedat@unal.edu.co|3.8180180180180177|\n",
      "|jfernandezmo@unal...|3.8666666666666663|\n",
      "|jcorreapa@unal.ed...|3.8666666666666663|\n",
      "|dgiraldolo@unal.e...|3.8666666666666663|\n",
      "|lbarcelo@unal.edu.co|3.8666666666666663|\n",
      "| wocampo@unal.edu.co|3.8666666666666663|\n",
      "|jlopezpe@unal.edu.co|3.8666666666666663|\n",
      "|jhcordoba@unal.ed...|3.8666666666666663|\n",
      "|jmunozhe@unal.edu.co|3.8666666666666663|\n",
      "|dgarciabl@unal.ed...|3.8666666666666663|\n",
      "|jubuitrago@unal.e...|3.8666666666666663|\n",
      "+--------------------+------------------+\n",
      "only showing top 20 rows\n",
      "\n"
     ]
    }
   ],
   "source": [
    "Lista = Integrantes.join(TF, (Integrantes.equipo1 == TF.expositor), how = 'left')\n",
    "Lista.select('nombre1','promedio_total').show()"
   ]
  },
  {
   "cell_type": "code",
   "execution_count": 45,
   "metadata": {},
   "outputs": [],
   "source": [
    "SesionSpark.stop()"
   ]
  },
  {
   "cell_type": "code",
   "execution_count": null,
   "metadata": {},
   "outputs": [],
   "source": []
  },
  {
   "cell_type": "code",
   "execution_count": null,
   "metadata": {},
   "outputs": [],
   "source": []
  }
 ],
 "metadata": {
  "kernelspec": {
   "display_name": "Python 3",
   "language": "python",
   "name": "python3"
  },
  "language_info": {
   "codemirror_mode": {
    "name": "ipython",
    "version": 3
   },
   "file_extension": ".py",
   "mimetype": "text/x-python",
   "name": "python",
   "nbconvert_exporter": "python",
   "pygments_lexer": "ipython3",
   "version": "3.6.9"
  }
 },
 "nbformat": 4,
 "nbformat_minor": 4
}
